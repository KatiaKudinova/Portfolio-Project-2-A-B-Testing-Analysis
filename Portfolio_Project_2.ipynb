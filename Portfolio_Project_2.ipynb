{
  "nbformat": 4,
  "nbformat_minor": 0,
  "metadata": {
    "colab": {
      "provenance": [],
      "include_colab_link": true
    },
    "kernelspec": {
      "name": "python3",
      "display_name": "Python 3"
    },
    "language_info": {
      "name": "python"
    }
  },
  "cells": [
    {
      "cell_type": "markdown",
      "metadata": {
        "id": "view-in-github",
        "colab_type": "text"
      },
      "source": [
        "<a href=\"https://colab.research.google.com/github/KatiaKudinova/Portfolio-Project-2-A-B-Testing-Analysis/blob/main/Portfolio_Project_2.ipynb\" target=\"_parent\"><img src=\"https://colab.research.google.com/assets/colab-badge.svg\" alt=\"Open In Colab\"/></a>"
      ]
    },
    {
      "cell_type": "markdown",
      "source": [
        "Portfolio Project 2.\n",
        "Підключаємось до BigQuery."
      ],
      "metadata": {
        "id": "xnrNo6fipLkW"
      }
    },
    {
      "cell_type": "code",
      "execution_count": null,
      "metadata": {
        "colab": {
          "base_uri": "https://localhost:8080/",
          "height": 706
        },
        "id": "wIKqA8KVmNef",
        "outputId": "390f8fe9-25f2-4247-9991-e3a8a6312e0d"
      },
      "outputs": [
        {
          "output_type": "stream",
          "name": "stdout",
          "text": [
            "Requirement already satisfied: google-cloud-bigquery in /usr/local/lib/python3.12/dist-packages (3.36.0)\n",
            "Collecting google-cloud-bigquery\n",
            "  Downloading google_cloud_bigquery-3.37.0-py3-none-any.whl.metadata (8.0 kB)\n",
            "Requirement already satisfied: google-api-core<3.0.0,>=2.11.1 in /usr/local/lib/python3.12/dist-packages (from google-api-core[grpc]<3.0.0,>=2.11.1->google-cloud-bigquery) (2.25.1)\n",
            "Requirement already satisfied: google-auth<3.0.0,>=2.14.1 in /usr/local/lib/python3.12/dist-packages (from google-cloud-bigquery) (2.38.0)\n",
            "Requirement already satisfied: google-cloud-core<3.0.0,>=2.4.1 in /usr/local/lib/python3.12/dist-packages (from google-cloud-bigquery) (2.4.3)\n",
            "Requirement already satisfied: google-resumable-media<3.0.0,>=2.0.0 in /usr/local/lib/python3.12/dist-packages (from google-cloud-bigquery) (2.7.2)\n",
            "Requirement already satisfied: packaging>=24.2.0 in /usr/local/lib/python3.12/dist-packages (from google-cloud-bigquery) (25.0)\n",
            "Requirement already satisfied: python-dateutil<3.0.0,>=2.8.2 in /usr/local/lib/python3.12/dist-packages (from google-cloud-bigquery) (2.9.0.post0)\n",
            "Requirement already satisfied: requests<3.0.0,>=2.21.0 in /usr/local/lib/python3.12/dist-packages (from google-cloud-bigquery) (2.32.4)\n",
            "Requirement already satisfied: googleapis-common-protos<2.0.0,>=1.56.2 in /usr/local/lib/python3.12/dist-packages (from google-api-core<3.0.0,>=2.11.1->google-api-core[grpc]<3.0.0,>=2.11.1->google-cloud-bigquery) (1.70.0)\n",
            "Requirement already satisfied: protobuf!=3.20.0,!=3.20.1,!=4.21.0,!=4.21.1,!=4.21.2,!=4.21.3,!=4.21.4,!=4.21.5,<7.0.0,>=3.19.5 in /usr/local/lib/python3.12/dist-packages (from google-api-core<3.0.0,>=2.11.1->google-api-core[grpc]<3.0.0,>=2.11.1->google-cloud-bigquery) (5.29.5)\n",
            "Requirement already satisfied: proto-plus<2.0.0,>=1.22.3 in /usr/local/lib/python3.12/dist-packages (from google-api-core<3.0.0,>=2.11.1->google-api-core[grpc]<3.0.0,>=2.11.1->google-cloud-bigquery) (1.26.1)\n",
            "Requirement already satisfied: grpcio<2.0.0,>=1.33.2 in /usr/local/lib/python3.12/dist-packages (from google-api-core[grpc]<3.0.0,>=2.11.1->google-cloud-bigquery) (1.74.0)\n",
            "Requirement already satisfied: grpcio-status<2.0.0,>=1.33.2 in /usr/local/lib/python3.12/dist-packages (from google-api-core[grpc]<3.0.0,>=2.11.1->google-cloud-bigquery) (1.71.2)\n",
            "Requirement already satisfied: cachetools<6.0,>=2.0.0 in /usr/local/lib/python3.12/dist-packages (from google-auth<3.0.0,>=2.14.1->google-cloud-bigquery) (5.5.2)\n",
            "Requirement already satisfied: pyasn1-modules>=0.2.1 in /usr/local/lib/python3.12/dist-packages (from google-auth<3.0.0,>=2.14.1->google-cloud-bigquery) (0.4.2)\n",
            "Requirement already satisfied: rsa<5,>=3.1.4 in /usr/local/lib/python3.12/dist-packages (from google-auth<3.0.0,>=2.14.1->google-cloud-bigquery) (4.9.1)\n",
            "Requirement already satisfied: google-crc32c<2.0dev,>=1.0 in /usr/local/lib/python3.12/dist-packages (from google-resumable-media<3.0.0,>=2.0.0->google-cloud-bigquery) (1.7.1)\n",
            "Requirement already satisfied: six>=1.5 in /usr/local/lib/python3.12/dist-packages (from python-dateutil<3.0.0,>=2.8.2->google-cloud-bigquery) (1.17.0)\n",
            "Requirement already satisfied: charset_normalizer<4,>=2 in /usr/local/lib/python3.12/dist-packages (from requests<3.0.0,>=2.21.0->google-cloud-bigquery) (3.4.3)\n",
            "Requirement already satisfied: idna<4,>=2.5 in /usr/local/lib/python3.12/dist-packages (from requests<3.0.0,>=2.21.0->google-cloud-bigquery) (3.10)\n",
            "Requirement already satisfied: urllib3<3,>=1.21.1 in /usr/local/lib/python3.12/dist-packages (from requests<3.0.0,>=2.21.0->google-cloud-bigquery) (2.5.0)\n",
            "Requirement already satisfied: certifi>=2017.4.17 in /usr/local/lib/python3.12/dist-packages (from requests<3.0.0,>=2.21.0->google-cloud-bigquery) (2025.8.3)\n",
            "Requirement already satisfied: pyasn1<0.7.0,>=0.6.1 in /usr/local/lib/python3.12/dist-packages (from pyasn1-modules>=0.2.1->google-auth<3.0.0,>=2.14.1->google-cloud-bigquery) (0.6.1)\n",
            "Downloading google_cloud_bigquery-3.37.0-py3-none-any.whl (258 kB)\n",
            "\u001b[2K   \u001b[90m━━━━━━━━━━━━━━━━━━━━━━━━━━━━━━━━━━━━━━━━\u001b[0m \u001b[32m258.9/258.9 kB\u001b[0m \u001b[31m3.8 MB/s\u001b[0m eta \u001b[36m0:00:00\u001b[0m\n",
            "\u001b[?25hInstalling collected packages: google-cloud-bigquery\n",
            "  Attempting uninstall: google-cloud-bigquery\n",
            "    Found existing installation: google-cloud-bigquery 3.36.0\n",
            "    Uninstalling google-cloud-bigquery-3.36.0:\n",
            "      Successfully uninstalled google-cloud-bigquery-3.36.0\n",
            "Successfully installed google-cloud-bigquery-3.37.0\n"
          ]
        },
        {
          "output_type": "display_data",
          "data": {
            "application/vnd.colab-display-data+json": {
              "pip_warning": {
                "packages": [
                  "google"
                ]
              },
              "id": "658eec95161745f9be172b098dcdc60a"
            }
          },
          "metadata": {}
        }
      ],
      "source": [
        "!pip install --upgrade google-cloud-bigquery\n",
        "\n",
        "from google.colab import auth\n",
        "from google.cloud import bigquery\n",
        "auth.authenticate_user()\n",
        "client = bigquery.Client(project=\"data-analytics-mate\")"
      ]
    },
    {
      "cell_type": "markdown",
      "source": [
        "Робимо SQL запит до таблиці."
      ],
      "metadata": {
        "id": "YyBkhVRXA6dz"
      }
    },
    {
      "cell_type": "code",
      "source": [
        "query = \"\"\"\n",
        "with session_info as (\n",
        "SELECT\n",
        "s.date,\n",
        "s.ga_session_id,\n",
        "sp.country,\n",
        "sp.device,\n",
        "sp.continent,\n",
        "sp.channel,\n",
        "ab.test,\n",
        "ab.test_group\n",
        "from data-analytics-mate.DA.ab_test as ab\n",
        "join `DA.session` as s\n",
        "on ab.ga_session_id = s.ga_session_id\n",
        "join `DA.session_params` as sp\n",
        "on sp.ga_session_id = s.ga_session_id\n",
        "),\n",
        "session_with_orders as (\n",
        "SELECT\n",
        "session_info.date,\n",
        "-- session_info.ga_session_id,\n",
        "session_info.country,\n",
        "session_info.device,\n",
        "session_info.continent,\n",
        "session_info.channel,\n",
        "session_info.test,\n",
        "session_info.test_group,\n",
        "count(distinct o.ga_session_id) as session_with_orders\n",
        "FROM `DA.order` as o\n",
        "join session_info\n",
        "on o.ga_session_id = session_info.ga_session_id\n",
        "group by\n",
        "session_info.date,\n",
        "session_info.country,\n",
        "session_info.device,\n",
        "session_info.continent,\n",
        "session_info.channel,\n",
        "session_info.test,\n",
        "session_info.test_group\n",
        "),\n",
        "event as (\n",
        "SELECT\n",
        "    session_info.date,\n",
        "    -- session_info.ga_session_id,\n",
        "    session_info.country,\n",
        "    session_info.device,\n",
        "    session_info.continent,\n",
        "    session_info.channel,\n",
        "    session_info.test,\n",
        "    session_info.test_group,\n",
        "    sp.event_name,\n",
        "    count(sp.ga_session_id) as event_cnt\n",
        "FROM `DA.event_params` as sp\n",
        "join session_info\n",
        "on sp.ga_session_id = session_info.ga_session_id\n",
        "group by\n",
        "    session_info.date,\n",
        "    -- session_info.ga_session_id,\n",
        "    session_info.country,\n",
        "    session_info.device,\n",
        "    session_info.continent,\n",
        "    session_info.channel,\n",
        "    session_info.test,\n",
        "    session_info.test_group,\n",
        "    sp.event_name\n",
        "),\n",
        "session as (\n",
        "select\n",
        "    session_info.date,\n",
        "    session_info.country,\n",
        "    session_info.device,\n",
        "    session_info.continent,\n",
        "    session_info.channel,\n",
        "    session_info.test,\n",
        "    session_info.test_group,\n",
        "    count(distinct session_info.ga_session_id) as session_cnt\n",
        "from session_info\n",
        "group by\n",
        "    session_info.date,\n",
        "    session_info.country,\n",
        "    session_info.device,\n",
        "    session_info.continent,\n",
        "    session_info.channel,\n",
        "    session_info.test,\n",
        "    session_info.test_group\n",
        "),\n",
        "account as (\n",
        "select\n",
        "    session_info.date,\n",
        "    session_info.country,\n",
        "    session_info.device,\n",
        "    session_info.continent,\n",
        "    session_info.channel,\n",
        "    session_info.test,\n",
        "    session_info.test_group,\n",
        "    count(distinct acs.ga_session_id) as new_account_cnt\n",
        "from `DA.account_session` as acs\n",
        "join session_info\n",
        "on acs.ga_session_id = session_info.ga_session_id\n",
        "group by\n",
        "    session_info.date,\n",
        "    session_info.country,\n",
        "    session_info.device,\n",
        "    session_info.continent,\n",
        "    session_info.channel,\n",
        "    session_info.test,\n",
        "    session_info.test_group\n",
        ")\n",
        "select\n",
        "    session_with_orders.date,\n",
        "    session_with_orders.country,\n",
        "    session_with_orders.device,\n",
        "    session_with_orders.continent,\n",
        "    session_with_orders.channel,\n",
        "    session_with_orders.test,\n",
        "    session_with_orders.test_group,\n",
        "    'session_with_orders' as event_name,\n",
        "    session_with_orders.session_with_orders as value\n",
        "from\n",
        "session_with_orders\n",
        "union all\n",
        "select\n",
        "    event.date,\n",
        "    event.country,\n",
        "    event.device,\n",
        "    event.continent,\n",
        "    event.channel,\n",
        "    event.test,\n",
        "    event.test_group,\n",
        "    event_name,\n",
        "    event.event_cnt as value\n",
        "from event\n",
        "union all\n",
        "select\n",
        "    session.date,\n",
        "    session.country,\n",
        "    session.device,\n",
        "    session.continent,\n",
        "    session.channel,\n",
        "    session.test,\n",
        "    session.test_group,\n",
        "    'session' as event_name,\n",
        "    session.session_cnt as value\n",
        "from session\n",
        "union all\n",
        "select\n",
        "    account.date,\n",
        "    account.country,\n",
        "    account.device,\n",
        "    account.continent,\n",
        "    account.channel,\n",
        "    account.test,\n",
        "    account.test_group,\n",
        "    'new account' as event_name,\n",
        "    account.new_account_cnt as value\n",
        "from account\n",
        "\"\"\"\n",
        "df = client.query(query).to_dataframe()\n",
        "print(df.head())"
      ],
      "metadata": {
        "colab": {
          "base_uri": "https://localhost:8080/"
        },
        "id": "uU5r27DrpNyd",
        "outputId": "4bec07bd-156d-402d-d03f-0558765bdd78"
      },
      "execution_count": null,
      "outputs": [
        {
          "output_type": "stream",
          "name": "stdout",
          "text": [
            "         date  country   device continent         channel  test  test_group  \\\n",
            "0  2020-11-02  Ecuador   mobile  Americas  Organic Search     2           2   \n",
            "1  2020-11-02   Kuwait  desktop      Asia  Organic Search     2           2   \n",
            "2  2020-11-06   Cyprus  desktop      Asia          Direct     2           1   \n",
            "3  2020-11-06  Ecuador  desktop  Americas     Paid Search     2           1   \n",
            "4  2020-11-07  Tunisia  desktop    Africa          Direct     2           1   \n",
            "\n",
            "            event_name  value  \n",
            "0  session_with_orders      1  \n",
            "1  session_with_orders      1  \n",
            "2  session_with_orders      1  \n",
            "3  session_with_orders      1  \n",
            "4  session_with_orders      1  \n"
          ]
        }
      ]
    },
    {
      "cell_type": "markdown",
      "source": [
        "Перевіряємо тип отриманих даних та нульові значення."
      ],
      "metadata": {
        "id": "cPQEc-WfBPe3"
      }
    },
    {
      "cell_type": "code",
      "source": [
        "print(df.info())\n",
        "print(df.isnull().sum())"
      ],
      "metadata": {
        "colab": {
          "base_uri": "https://localhost:8080/"
        },
        "id": "5e7gO4d_nhBf",
        "outputId": "5bb6c4cf-6d5b-4e21-9dd0-5f9a0bc87983"
      },
      "execution_count": null,
      "outputs": [
        {
          "output_type": "stream",
          "name": "stdout",
          "text": [
            "<class 'pandas.core.frame.DataFrame'>\n",
            "RangeIndex: 800996 entries, 0 to 800995\n",
            "Data columns (total 9 columns):\n",
            " #   Column      Non-Null Count   Dtype \n",
            "---  ------      --------------   ----- \n",
            " 0   date        800996 non-null  dbdate\n",
            " 1   country     800996 non-null  object\n",
            " 2   device      800996 non-null  object\n",
            " 3   continent   800996 non-null  object\n",
            " 4   channel     800996 non-null  object\n",
            " 5   test        800996 non-null  Int64 \n",
            " 6   test_group  800996 non-null  Int64 \n",
            " 7   event_name  800996 non-null  object\n",
            " 8   value       800996 non-null  Int64 \n",
            "dtypes: Int64(3), dbdate(1), object(5)\n",
            "memory usage: 57.3+ MB\n",
            "None\n",
            "date          0\n",
            "country       0\n",
            "device        0\n",
            "continent     0\n",
            "channel       0\n",
            "test          0\n",
            "test_group    0\n",
            "event_name    0\n",
            "value         0\n",
            "dtype: int64\n"
          ]
        }
      ]
    },
    {
      "cell_type": "markdown",
      "source": [
        "Перевіряємо і рахуємо події у колонці event_name."
      ],
      "metadata": {
        "id": "_pQDBhxrRPIy"
      }
    },
    {
      "cell_type": "code",
      "source": [
        "event_counts = df['event_name'].value_counts()\n",
        "print(event_counts)"
      ],
      "metadata": {
        "colab": {
          "base_uri": "https://localhost:8080/"
        },
        "id": "yfvriMxIRyyQ",
        "outputId": "57dc26b9-b8b1-4c10-d7ad-c5d5aa404ea1"
      },
      "execution_count": null,
      "outputs": [
        {
          "output_type": "stream",
          "name": "stdout",
          "text": [
            "event_name\n",
            "session                107210\n",
            "session_start          106242\n",
            "page_view              101907\n",
            "user_engagement         94520\n",
            "first_visit             81621\n",
            "scroll                  73643\n",
            "view_promotion          61695\n",
            "view_item               44869\n",
            "session_with_orders     25892\n",
            "new account             22389\n",
            "view_search_results     14310\n",
            "add_shipping_info       11961\n",
            "begin_checkout          11959\n",
            "select_item             11816\n",
            "add_to_cart             11762\n",
            "select_promotion         9044\n",
            "add_payment_info         8048\n",
            "click                    1997\n",
            "view_item_list            111\n",
            "Name: count, dtype: int64\n"
          ]
        }
      ]
    },
    {
      "cell_type": "markdown",
      "source": [
        "Імпортуємо необхідні бібліотеки, створюємо словник з метриками та зведену таблицю з total результатами."
      ],
      "metadata": {
        "id": "kzFvc_16RTOJ"
      }
    },
    {
      "cell_type": "code",
      "source": [
        "import pandas as pd\n",
        "import statsmodels.api as sm\n",
        "from statsmodels.stats.proportion import proportions_ztest\n",
        "import numpy as np\n",
        "metrics = [{\"name\": \"begin_checkout/session\", \"num\": \"begin_checkout\", \"den\": \"session\"},\n",
        "           {\"name\": \"add_payment_info/session\", \"num\": \"add_payment_info\", \"den\": \"session\"},\n",
        "           {\"name\": \"add_shipping_info/session\", \"num\": \"add_shipping_info\", \"den\": \"session\"},\n",
        "           {\"name\": \"new account/session\", \"num\": \"new account\", \"den\": \"session\"}]\n",
        "results = []\n",
        "def make_pivot(df):\n",
        "        agg = df.groupby([\"test\", \"test_group\", \"event_name\"])[\"value\"].sum().reset_index()\n",
        "\n",
        "        pivot = agg.pivot_table(index=[\"test\", \"test_group\"],\n",
        "        columns=\"event_name\", values=\"value\", fill_value=0).reset_index()\n",
        "\n",
        "        pivot.columns.name = None\n",
        "        return pivot\n",
        "pivot_total = make_pivot(df)\n",
        "print(pivot_total)"
      ],
      "metadata": {
        "colab": {
          "base_uri": "https://localhost:8080/"
        },
        "id": "rOGl-jXOkLyG",
        "outputId": "9e418d7b-5fb2-4b7e-8ca1-2276a87643cd"
      },
      "execution_count": null,
      "outputs": [
        {
          "output_type": "stream",
          "name": "stdout",
          "text": [
            "   test  test_group  add_payment_info  add_shipping_info  add_to_cart  \\\n",
            "0     1           1            1988.0             3034.0       1395.0   \n",
            "1     1           2            2229.0             3221.0       1366.0   \n",
            "2     2           1            2344.0             3480.0       2811.0   \n",
            "3     2           2            2409.0             3510.0       3061.0   \n",
            "4     3           1            3623.0             5298.0      17674.0   \n",
            "5     3           2            3697.0             5188.0      17229.0   \n",
            "6     4           1            3731.0             5128.0      21536.0   \n",
            "7     4           2            3601.0             4956.0      21554.0   \n",
            "\n",
            "   begin_checkout  click  first_visit  new account  page_view  ...  \\\n",
            "0          3784.0  368.0      30596.0       3823.0   191543.0  ...   \n",
            "1          4021.0  353.0      30512.0       3681.0   198050.0  ...   \n",
            "2          4262.0  337.0      34511.0       4165.0   220275.0  ...   \n",
            "3          4313.0  413.0      34171.0       4184.0   212320.0  ...   \n",
            "4          9532.0  280.0      50438.0       5856.0   286351.0  ...   \n",
            "5          9264.0  292.0      50728.0       5822.0   284287.0  ...   \n",
            "6         12555.0  285.0      80900.0       8984.0   379480.0  ...   \n",
            "7         12267.0  299.0      80626.0       8687.0   378307.0  ...   \n",
            "\n",
            "   select_item  select_promotion   session  session_start  \\\n",
            "0        543.0            1275.0   45362.0        45905.0   \n",
            "1        530.0            1323.0   45193.0        45649.0   \n",
            "2        905.0            1477.0   50637.0        51219.0   \n",
            "3        946.0            1406.0   50244.0        50808.0   \n",
            "4       8735.0            2020.0   70047.0        71312.0   \n",
            "5       8556.0            1996.0   70439.0        71686.0   \n",
            "6      12214.0            2773.0  105079.0       107128.0   \n",
            "7      11988.0            2708.0  105141.0       106978.0   \n",
            "\n",
            "   session_with_orders  user_engagement  view_item  view_item_list  \\\n",
            "0               4514.0         171788.0    62335.0            27.0   \n",
            "1               4526.0         179081.0    65337.0            24.0   \n",
            "2               5102.0         198266.0    72717.0            24.0   \n",
            "3               5003.0         189931.0    68700.0            29.0   \n",
            "4               6951.0         249921.0    93931.0             9.0   \n",
            "5               7151.0         248325.0    92841.0             9.0   \n",
            "6              10596.0         273946.0    98619.0             5.0   \n",
            "7              10481.0         273633.0    98928.0             6.0   \n",
            "\n",
            "   view_promotion  view_search_results  \n",
            "0         29188.0               3678.0  \n",
            "1         29117.0               3882.0  \n",
            "2         32367.0               4282.0  \n",
            "3         31680.0               4198.0  \n",
            "4         41169.0               5764.0  \n",
            "5         40959.0               5619.0  \n",
            "6         52672.0               7582.0  \n",
            "7         51985.0               7203.0  \n",
            "\n",
            "[8 rows x 21 columns]\n"
          ]
        }
      ]
    },
    {
      "cell_type": "markdown",
      "source": [
        "Тест пропорцій для загальних результатів."
      ],
      "metadata": {
        "id": "Yt7BQR1xR-MP"
      }
    },
    {
      "cell_type": "code",
      "source": [
        "tests = pivot_total['test'].unique()\n",
        "\n",
        "for test_id in tests:\n",
        "    df_test = pivot_total[pivot_total['test'] == test_id]\n",
        "    group1 =  df_test[df_test['test_group'] == 1]\n",
        "    group2 =  df_test[df_test['test_group'] == 2]\n",
        "\n",
        "    for metric in metrics:\n",
        "        num1 = group1[metric['num']].sum()\n",
        "        num2 = group2[metric['num']].sum()\n",
        "        den1 = group1[metric['den']].sum()\n",
        "        den2 = group2[metric['den']].sum()\n",
        "\n",
        "        conv1 = num1 / den1 if den1 > 0 else 0\n",
        "        conv2 = num2 / den2 if den2 > 0 else 0\n",
        "\n",
        "        count = np.array([num1, num2])\n",
        "        nobs = np.array([den1, den2])\n",
        "        z_stat, p_value = proportions_ztest(count, nobs)\n",
        "\n",
        "        metric_change = conv2 / conv1 if conv1 > 0 else np.nan\n",
        "        significant = p_value < 0.05\n",
        "        print(f\"Metric {metric['name']}, p-value = {p_value:.4f}, z_stat = {z_stat:.4f}\")\n",
        "        results.append({\"test_number\": test_id, \"metrics\": metric['name'], \"numerator_ev\": num1, \"denominator_ev\": den1,\n",
        "                        \"numerator_cohort\": num2, \"denominator_cohort\": den2, \"conversion_rate_1\": conv1, \"conversion_rate_2\": conv2,\n",
        "                        \"metric_change\": metric_change, \"z_stat\": z_stat, \"p_value\": p_value, \"significant\": significant})"
      ],
      "metadata": {
        "colab": {
          "base_uri": "https://localhost:8080/"
        },
        "id": "CQkh0k-U4hOI",
        "outputId": "eb32febc-a541-4e63-d538-120275939d32"
      },
      "execution_count": null,
      "outputs": [
        {
          "output_type": "stream",
          "name": "stdout",
          "text": [
            "Metric begin_checkout/session, p-value = 0.0029, z_stat = -2.9788\n",
            "Metric add_payment_info/session, p-value = 0.0001, z_stat = -3.9249\n",
            "Metric add_shipping_info/session, p-value = 0.0092, z_stat = -2.6036\n",
            "Metric new account/session, p-value = 0.1229, z_stat = 1.5429\n",
            "Metric begin_checkout/session, p-value = 0.3406, z_stat = -0.9529\n",
            "Metric add_payment_info/session, p-value = 0.2146, z_stat = -1.2410\n",
            "Metric add_shipping_info/session, p-value = 0.4780, z_stat = -0.7096\n",
            "Metric new account/session, p-value = 0.5560, z_stat = -0.5888\n",
            "Metric begin_checkout/session, p-value = 0.0120, z_stat = 2.5114\n",
            "Metric add_payment_info/session, p-value = 0.5201, z_stat = -0.6432\n",
            "Metric add_shipping_info/session, p-value = 0.1574, z_stat = 1.4137\n",
            "Metric new account/session, p-value = 0.5199, z_stat = 0.6435\n",
            "Metric begin_checkout/session, p-value = 0.0459, z_stat = 1.9960\n",
            "Metric add_payment_info/session, p-value = 0.1162, z_stat = 1.5711\n",
            "Metric add_shipping_info/session, p-value = 0.0741, z_stat = 1.7858\n",
            "Metric new account/session, p-value = 0.0175, z_stat = 2.3755\n"
          ]
        }
      ]
    },
    {
      "cell_type": "code",
      "source": [
        "results_df = pd.DataFrame(results)\n",
        "\n",
        "from google.colab import drive\n",
        "drive.mount('/content/drive')\n",
        "\n",
        "results_df.to_csv(\"/content/drive/MyDrive/DA/project2.csv\", index=False)\n",
        "results_df.to_csv(\"project2.csv\", index=False)\n"
      ],
      "metadata": {
        "colab": {
          "base_uri": "https://localhost:8080/"
        },
        "id": "tDutArqPd5hv",
        "outputId": "12fc512a-8187-4f35-d27d-93e39ac61c13"
      },
      "execution_count": null,
      "outputs": [
        {
          "output_type": "stream",
          "name": "stdout",
          "text": [
            "Mounted at /content/drive\n"
          ]
        }
      ]
    },
    {
      "cell_type": "markdown",
      "source": [
        "Посилання на [документ](https://drive.google.com/file/d/1OMaI5D2_34mY47yfHk0XvQ5_MfaYSoMZ/view?usp=sharing)\n",
        "\n",
        "Посилання на [дашборд](https://public.tableau.com/app/profile/kateryna.kudinova/viz/ABtest_17568047571490/ABtest)"
      ],
      "metadata": {
        "id": "2GFTS5y5ph8g"
      }
    },
    {
      "cell_type": "markdown",
      "source": [
        "Створюємо зведену таблицю по континентам."
      ],
      "metadata": {
        "id": "o26t8Yb3RovJ"
      }
    },
    {
      "cell_type": "code",
      "source": [
        "def make_pivot_continent(df):\n",
        "    agg = df.groupby([\"test\", \"test_group\", \"continent\", \"event_name\"])[\"value\"].sum().reset_index()\n",
        "\n",
        "    pivot = agg.pivot_table(index=[\"test\", \"test_group\", \"continent\"], columns=\"event_name\", values=\"value\", fill_value=0).reset_index()\n",
        "    pivot.columns.name = None\n",
        "    return pivot\n",
        "pivot_continent = make_pivot_continent(df)\n",
        "print(pivot_continent)"
      ],
      "metadata": {
        "colab": {
          "base_uri": "https://localhost:8080/"
        },
        "id": "QHfRicl2zE3W",
        "outputId": "a27e85ba-9840-41c2-ac87-c39dc8bf33ba"
      },
      "execution_count": null,
      "outputs": [
        {
          "output_type": "stream",
          "name": "stdout",
          "text": [
            "    test  test_group  continent  add_payment_info  add_shipping_info  \\\n",
            "0      1           1  (not set)               7.0                4.0   \n",
            "1      1           1     Africa              19.0               41.0   \n",
            "2      1           1   Americas            1107.0             1704.0   \n",
            "3      1           1       Asia             512.0              730.0   \n",
            "4      1           1     Europe             324.0              528.0   \n",
            "5      1           1    Oceania              19.0               27.0   \n",
            "6      1           2  (not set)              10.0               13.0   \n",
            "7      1           2     Africa              24.0               28.0   \n",
            "8      1           2   Americas            1177.0             1738.0   \n",
            "9      1           2       Asia             545.0              798.0   \n",
            "10     1           2     Europe             452.0              606.0   \n",
            "11     1           2    Oceania              21.0               38.0   \n",
            "12     2           1  (not set)              11.0                7.0   \n",
            "13     2           1     Africa              32.0               50.0   \n",
            "14     2           1   Americas            1230.0             1923.0   \n",
            "15     2           1       Asia             572.0              833.0   \n",
            "16     2           1     Europe             481.0              643.0   \n",
            "17     2           1    Oceania              18.0               24.0   \n",
            "18     2           2  (not set)               7.0               11.0   \n",
            "19     2           2     Africa              11.0               21.0   \n",
            "20     2           2   Americas            1342.0             1931.0   \n",
            "21     2           2       Asia             630.0              871.0   \n",
            "22     2           2     Europe             395.0              628.0   \n",
            "23     2           2    Oceania              24.0               48.0   \n",
            "24     3           1  (not set)              14.0               24.0   \n",
            "25     3           1     Africa              33.0               48.0   \n",
            "26     3           1   Americas            1959.0             2925.0   \n",
            "27     3           1       Asia             872.0             1213.0   \n",
            "28     3           1     Europe             681.0             1003.0   \n",
            "29     3           1    Oceania              64.0               85.0   \n",
            "30     3           2  (not set)              19.0               20.0   \n",
            "31     3           2     Africa              28.0               51.0   \n",
            "32     3           2   Americas            2041.0             2854.0   \n",
            "33     3           2       Asia             843.0             1184.0   \n",
            "34     3           2     Europe             710.0              999.0   \n",
            "35     3           2    Oceania              56.0               80.0   \n",
            "36     4           1  (not set)              22.0               27.0   \n",
            "37     4           1     Africa              38.0               39.0   \n",
            "38     4           1   Americas            2030.0             2818.0   \n",
            "39     4           1       Asia             819.0             1098.0   \n",
            "40     4           1     Europe             747.0             1055.0   \n",
            "41     4           1    Oceania              75.0               91.0   \n",
            "42     4           2  (not set)               8.0               14.0   \n",
            "43     4           2     Africa              39.0               57.0   \n",
            "44     4           2   Americas            2032.0             2785.0   \n",
            "45     4           2       Asia             830.0             1124.0   \n",
            "46     4           2     Europe             654.0              917.0   \n",
            "47     4           2    Oceania              38.0               59.0   \n",
            "\n",
            "    add_to_cart  begin_checkout  click  first_visit  new account  ...  \\\n",
            "0           3.0             4.0    1.0         65.0          7.0  ...   \n",
            "1          16.0            54.0    2.0        325.0         36.0  ...   \n",
            "2         838.0          2130.0  213.0      16879.0       2165.0  ...   \n",
            "3         299.0           915.0   77.0       7220.0        878.0  ...   \n",
            "4         214.0           645.0   71.0       5789.0        700.0  ...   \n",
            "5          25.0            36.0    4.0        318.0         37.0  ...   \n",
            "6           1.0            22.0    1.0         66.0         11.0  ...   \n",
            "7          14.0            33.0    6.0        317.0         38.0  ...   \n",
            "8         756.0          2164.0  165.0      16732.0       1971.0  ...   \n",
            "9         274.0          1002.0   93.0       7274.0        934.0  ...   \n",
            "10        303.0           744.0   82.0       5793.0        683.0  ...   \n",
            "11         18.0            56.0    6.0        330.0         44.0  ...   \n",
            "12          5.0             8.0    0.0         62.0          8.0  ...   \n",
            "13         25.0            64.0    3.0        390.0         47.0  ...   \n",
            "14       1518.0          2361.0  157.0      18999.0       2307.0  ...   \n",
            "15        752.0          1008.0   82.0       8137.0        985.0  ...   \n",
            "16        503.0           787.0   90.0       6549.0        770.0  ...   \n",
            "17          8.0            34.0    5.0        374.0         48.0  ...   \n",
            "18          1.0            19.0    2.0         84.0         11.0  ...   \n",
            "19         19.0            25.0    5.0        325.0         37.0  ...   \n",
            "20       1892.0          2360.0  235.0      18870.0       2296.0  ...   \n",
            "21        619.0          1102.0   96.0       8097.0       1025.0  ...   \n",
            "22        482.0           742.0   69.0       6425.0        771.0  ...   \n",
            "23         48.0            65.0    6.0        370.0         44.0  ...   \n",
            "24         37.0            44.0    0.0        121.0         12.0  ...   \n",
            "25        130.0            80.0    2.0        512.0         46.0  ...   \n",
            "26       9722.0          5309.0  159.0      27898.0       3222.0  ...   \n",
            "27       4217.0          2162.0   70.0      11913.0       1443.0  ...   \n",
            "28       3387.0          1777.0   44.0       9508.0       1086.0  ...   \n",
            "29        181.0           160.0    5.0        486.0         47.0  ...   \n",
            "30         45.0            34.0    1.0        113.0          9.0  ...   \n",
            "31         80.0            91.0    3.0        527.0         43.0  ...   \n",
            "32       9865.0          5089.0  170.0      28144.0       3218.0  ...   \n",
            "33       3780.0          2119.0   62.0      11910.0       1395.0  ...   \n",
            "34       3289.0          1784.0   54.0       9473.0       1106.0  ...   \n",
            "35        170.0           147.0    2.0        561.0         51.0  ...   \n",
            "36         45.0            59.0    0.0        188.0         15.0  ...   \n",
            "37        137.0            98.0    2.0        842.0         96.0  ...   \n",
            "38      12157.0          6886.0  176.0      44661.0       4990.0  ...   \n",
            "39       4804.0          2694.0   53.0      19199.0       2164.0  ...   \n",
            "40       4199.0          2600.0   49.0      15181.0       1642.0  ...   \n",
            "41        194.0           218.0    5.0        829.0         77.0  ...   \n",
            "42         86.0            35.0    0.0        200.0         16.0  ...   \n",
            "43        256.0           139.0    0.0        822.0         74.0  ...   \n",
            "44      12246.0          6929.0  173.0      44500.0       4836.0  ...   \n",
            "45       4672.0          2764.0   61.0      19311.0       2039.0  ...   \n",
            "46       4161.0          2263.0   64.0      14960.0       1633.0  ...   \n",
            "47        133.0           137.0    1.0        833.0         89.0  ...   \n",
            "\n",
            "    select_item  select_promotion  session  session_start  \\\n",
            "0           0.0               1.0     97.0           98.0   \n",
            "1           6.0              20.0    494.0          496.0   \n",
            "2         290.0             674.0  25164.0        25452.0   \n",
            "3         156.0             302.0  10626.0        10782.0   \n",
            "4          91.0             261.0   8472.0         8572.0   \n",
            "5           0.0              17.0    509.0          505.0   \n",
            "6           4.0               1.0    100.0          103.0   \n",
            "7           6.0               9.0    474.0          486.0   \n",
            "8         275.0             725.0  24769.0        25024.0   \n",
            "9         122.0             327.0  10932.0        11006.0   \n",
            "10        109.0             247.0   8423.0         8535.0   \n",
            "11         14.0              14.0    495.0          495.0   \n",
            "12          4.0               1.0     89.0           91.0   \n",
            "13          8.0              12.0    566.0          574.0   \n",
            "14        442.0             795.0  27902.0        28217.0   \n",
            "15        229.0             374.0  11983.0        12121.0   \n",
            "16        215.0             278.0   9520.0         9646.0   \n",
            "17          7.0              17.0    577.0          570.0   \n",
            "18          3.0               1.0    130.0          132.0   \n",
            "19         14.0              19.0    490.0          498.0   \n",
            "20        542.0             762.0  27772.0        28094.0   \n",
            "21        237.0             314.0  11983.0        12093.0   \n",
            "22        138.0             293.0   9318.0         9435.0   \n",
            "23         12.0              17.0    551.0          556.0   \n",
            "24         71.0               2.0    175.0          179.0   \n",
            "25         52.0              14.0    681.0          702.0   \n",
            "26       4794.0            1073.0  38689.0        39418.0   \n",
            "27       2076.0             494.0  16628.0        16907.0   \n",
            "28       1649.0             422.0  13190.0        13417.0   \n",
            "29         93.0              15.0    684.0          689.0   \n",
            "30         16.0               2.0    152.0          155.0   \n",
            "31         82.0              12.0    709.0          727.0   \n",
            "32       4853.0            1143.0  38992.0        39689.0   \n",
            "33       2034.0             464.0  16715.0        16993.0   \n",
            "34       1467.0             354.0  13108.0        13350.0   \n",
            "35        104.0              21.0    763.0          772.0   \n",
            "36         48.0               3.0    234.0          238.0   \n",
            "37        134.0              23.0   1096.0         1117.0   \n",
            "38       6841.0            1589.0  58053.0        59183.0   \n",
            "39       2851.0             638.0  24908.0        25380.0   \n",
            "40       2211.0             498.0  19693.0        20098.0   \n",
            "41        129.0              22.0   1095.0         1112.0   \n",
            "42         60.0               8.0    262.0          271.0   \n",
            "43         84.0              24.0   1086.0         1110.0   \n",
            "44       6764.0            1489.0  58031.0        59069.0   \n",
            "45       2726.0             656.0  25165.0        25581.0   \n",
            "46       2208.0             507.0  19528.0        19849.0   \n",
            "47        146.0              24.0   1069.0         1098.0   \n",
            "\n",
            "    session_with_orders  user_engagement  view_item  view_item_list  \\\n",
            "0                  11.0            236.0       71.0             0.0   \n",
            "1                  46.0           1885.0      618.0             0.0   \n",
            "2                2505.0          96138.0    35351.0            19.0   \n",
            "3                1072.0          39641.0    14357.0             4.0   \n",
            "4                 828.0          31962.0    11214.0             4.0   \n",
            "5                  52.0           1926.0      724.0             0.0   \n",
            "6                  10.0            561.0      189.0             0.0   \n",
            "7                  45.0           1575.0      564.0             0.0   \n",
            "8                2454.0          99944.0    37052.0            20.0   \n",
            "9                1101.0          42544.0    15424.0             0.0   \n",
            "10                860.0          32639.0    11436.0             3.0   \n",
            "11                 56.0           1818.0      672.0             1.0   \n",
            "12                 13.0            405.0      127.0             0.0   \n",
            "13                 54.0           1986.0      720.0             0.0   \n",
            "14               2808.0         111183.0    41018.0            17.0   \n",
            "15               1187.0          46284.0    17113.0             3.0   \n",
            "16                971.0          36443.0    13083.0             4.0   \n",
            "17                 69.0           1965.0      656.0             0.0   \n",
            "18                 13.0            453.0      144.0             0.0   \n",
            "19                 50.0           1669.0      541.0             0.0   \n",
            "20               2762.0         106234.0    39213.0            23.0   \n",
            "21               1211.0          44570.0    16009.0             2.0   \n",
            "22                912.0          34811.0    11937.0             3.0   \n",
            "23                 55.0           2194.0      856.0             1.0   \n",
            "24                 22.0            807.0      327.0             0.0   \n",
            "25                 77.0           2002.0      663.0             0.0   \n",
            "26               3889.0         139989.0    52510.0             4.0   \n",
            "27               1615.0          59015.0    22416.0             2.0   \n",
            "28               1278.0          45598.0    17108.0             2.0   \n",
            "29                 70.0           2510.0      907.0             1.0   \n",
            "30                 16.0            591.0      179.0             0.0   \n",
            "31                 66.0           2406.0      803.0             0.0   \n",
            "32               3922.0         139478.0    52647.0             6.0   \n",
            "33               1714.0          57309.0    21103.0             1.0   \n",
            "34               1351.0          45877.0    17131.0             1.0   \n",
            "35                 82.0           2664.0      978.0             1.0   \n",
            "36                 18.0            706.0      295.0             0.0   \n",
            "37                113.0           2600.0      893.0             0.0   \n",
            "38               5851.0         152439.0    54919.0             3.0   \n",
            "39               2528.0          63385.0    22303.0             0.0   \n",
            "40               1981.0          51764.0    19026.0             2.0   \n",
            "41                105.0           3052.0     1183.0             0.0   \n",
            "42                 19.0            949.0      415.0             0.0   \n",
            "43                103.0           2436.0      840.0             0.0   \n",
            "44               5808.0         154115.0    56433.0             5.0   \n",
            "45               2498.0          62928.0    21730.0             0.0   \n",
            "46               1944.0          50546.0    18581.0             0.0   \n",
            "47                109.0           2659.0      929.0             1.0   \n",
            "\n",
            "    view_promotion  view_search_results  \n",
            "0             50.0                  5.0  \n",
            "1            364.0                 25.0  \n",
            "2          16060.0               2131.0  \n",
            "3           6797.0                886.0  \n",
            "4           5605.0                597.0  \n",
            "5            312.0                 34.0  \n",
            "6             68.0                  4.0  \n",
            "7            282.0                 18.0  \n",
            "8          16059.0               2318.0  \n",
            "9           6902.0                846.0  \n",
            "10          5488.0                667.0  \n",
            "11           318.0                 29.0  \n",
            "12            54.0                  7.0  \n",
            "13           358.0                 23.0  \n",
            "14         17968.0               2468.0  \n",
            "15          7629.0                988.0  \n",
            "16          6003.0                756.0  \n",
            "17           355.0                 40.0  \n",
            "18            74.0                  3.0  \n",
            "19           330.0                 29.0  \n",
            "20         17349.0               2509.0  \n",
            "21          7442.0                937.0  \n",
            "22          6142.0                684.0  \n",
            "23           343.0                 36.0  \n",
            "24           111.0                  9.0  \n",
            "25           437.0                 40.0  \n",
            "26         22521.0               3233.0  \n",
            "27          9886.0               1350.0  \n",
            "28          7826.0               1065.0  \n",
            "29           388.0                 67.0  \n",
            "30           106.0                  8.0  \n",
            "31           399.0                 53.0  \n",
            "32         22676.0               3178.0  \n",
            "33          9805.0               1371.0  \n",
            "34          7548.0                967.0  \n",
            "35           425.0                 42.0  \n",
            "36           125.0                  9.0  \n",
            "37           545.0                 69.0  \n",
            "38         29368.0               4274.0  \n",
            "39         12306.0               1794.0  \n",
            "40          9815.0               1385.0  \n",
            "41           513.0                 51.0  \n",
            "42           125.0                 24.0  \n",
            "43           547.0                 85.0  \n",
            "44         28891.0               3992.0  \n",
            "45         12347.0               1707.0  \n",
            "46          9562.0               1344.0  \n",
            "47           513.0                 51.0  \n",
            "\n",
            "[48 rows x 22 columns]\n"
          ]
        }
      ]
    },
    {
      "cell_type": "markdown",
      "source": [
        "Проводимо тест пропорцій в розрізі континентів."
      ],
      "metadata": {
        "id": "1BLLipXKRvyA"
      }
    },
    {
      "cell_type": "code",
      "source": [
        "tests1 = pivot_continent['test'].unique()\n",
        "\n",
        "for test_id in tests1:\n",
        "    df_test1 = pivot_continent[pivot_continent['test'] == test_id]\n",
        "    group1 =  df_test1[df_test1['test_group'] == 1]\n",
        "    group2 =  df_test1[df_test1['test_group'] == 2]\n",
        "\n",
        "    for metric in metrics:\n",
        "        num1 = group1[metric['num']].sum()\n",
        "        num2 = group2[metric['num']].sum()\n",
        "        den1 = group1[metric['den']].sum()\n",
        "        den2 = group2[metric['den']].sum()\n",
        "\n",
        "        conv1 = num1 / den1 if den1 > 0 else 0\n",
        "        conv2 = num2 / den2 if den2 > 0 else 0\n",
        "\n",
        "        count = np.array([num1, num2])\n",
        "        nobs = np.array([den1, den2])\n",
        "        z_stat, p_value = proportions_ztest(count, nobs)\n",
        "\n",
        "        metric_change = conv2 / conv1 if conv1 > 0 else np.nan\n",
        "        significant = p_value < 0.05\n",
        "        print(f\"Metric {metric['name']}, p-value = {p_value:.4f}, z_stat = {z_stat:.4f}\")"
      ],
      "metadata": {
        "colab": {
          "base_uri": "https://localhost:8080/"
        },
        "id": "0UuSHHpi4-W3",
        "outputId": "0a4ea160-ad27-4765-dfa2-5d9150e70d47"
      },
      "execution_count": null,
      "outputs": [
        {
          "output_type": "stream",
          "name": "stdout",
          "text": [
            "Metric begin_checkout/session, p-value = 0.0029, z_stat = -2.9788\n",
            "Metric add_payment_info/session, p-value = 0.0001, z_stat = -3.9249\n",
            "Metric add_shipping_info/session, p-value = 0.0092, z_stat = -2.6036\n",
            "Metric new account/session, p-value = 0.1229, z_stat = 1.5429\n",
            "Metric begin_checkout/session, p-value = 0.3406, z_stat = -0.9529\n",
            "Metric add_payment_info/session, p-value = 0.2146, z_stat = -1.2410\n",
            "Metric add_shipping_info/session, p-value = 0.4780, z_stat = -0.7096\n",
            "Metric new account/session, p-value = 0.5560, z_stat = -0.5888\n",
            "Metric begin_checkout/session, p-value = 0.0120, z_stat = 2.5114\n",
            "Metric add_payment_info/session, p-value = 0.5201, z_stat = -0.6432\n",
            "Metric add_shipping_info/session, p-value = 0.1574, z_stat = 1.4137\n",
            "Metric new account/session, p-value = 0.5199, z_stat = 0.6435\n",
            "Metric begin_checkout/session, p-value = 0.0459, z_stat = 1.9960\n",
            "Metric add_payment_info/session, p-value = 0.1162, z_stat = 1.5711\n",
            "Metric add_shipping_info/session, p-value = 0.0741, z_stat = 1.7858\n",
            "Metric new account/session, p-value = 0.0175, z_stat = 2.3755\n"
          ]
        }
      ]
    }
  ]
}